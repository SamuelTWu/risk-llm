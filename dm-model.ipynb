{
 "cells": [
  {
   "cell_type": "code",
   "execution_count": 15,
   "metadata": {},
   "outputs": [],
   "source": [
    "from datasets import load_dataset, DatasetDict\n",
    "from torch.utils.data import Dataset\n",
    "from transformers import AutoTokenizer, AutoModelForCausalLM, Trainer, TrainingArguments, DataCollatorForLanguageModeling, pipeline\n",
    "import torch\n",
    "import pandas as pd\n",
    "import numpy as np\n",
    "import random\n",
    "import re"
   ]
  },
  {
   "cell_type": "code",
   "execution_count": 4,
   "metadata": {},
   "outputs": [],
   "source": [
    "df = pd.read_csv(\"data/ultra-dm-dataset.csv\")"
   ]
  },
  {
   "cell_type": "code",
   "execution_count": 7,
   "metadata": {},
   "outputs": [],
   "source": [
    "#for the dm-model, we follow a system_prompt|user_prompt|assistant_response\tformat for finetuning, so we make a specialized dataloader\n",
    "class TinyLlamaDataset(Dataset):\n",
    "    def __init__(self, dataframe):\n",
    "        self.data = dataframe\n",
    "\n",
    "    def __len__(self):\n",
    "        return len(self.data)\n",
    "\n",
    "    def __getitem__(self, idx):\n",
    "        messages = [\n",
    "            {\"role\": \"system\", \"content\": self.data.iloc[idx][\"system_prompt\"]},\n",
    "            {\"role\": \"user\", \"content\": self.data.iloc[idx][\"user_prompt\"]},\n",
    "            {\"role\": \"assistant\", \"content\": self.data.iloc[idx][\"assistant_response\"]},\n",
    "        ]\n",
    "        prompt = tokenizer.apply_chat_template(messages, tokenize=False, add_generation_prompt=False)\n",
    "        encoded = tokenizer(prompt, truncation=True, padding=\"max_length\", return_tensors=\"pt\")\n",
    "        input_ids = encoded[\"input_ids\"].squeeze()\n",
    "        attention_mask = encoded[\"attention_mask\"].squeeze()\n",
    "        return {\n",
    "            \"input_ids\": input_ids,\n",
    "            \"attention_mask\": attention_mask,\n",
    "            \"labels\": input_ids.clone(),\n",
    "        }\n",
    "\n",
    "dataset = TinyLlamaDataset(df)"
   ]
  },
  {
   "cell_type": "code",
   "execution_count": 8,
   "metadata": {},
   "outputs": [],
   "source": [
    "tokenizer = AutoTokenizer.from_pretrained(\"TinyLlama/TinyLlama-1.1B-Chat-v1.0\")\n",
    "model = AutoModelForCausalLM.from_pretrained(\"TinyLlama/TinyLlama-1.1B-Chat-v1.0\",\n",
    "    cache_dir=\"/projectnb/cs505aw/students/samwu/risk-llm/\")"
   ]
  },
  {
   "cell_type": "code",
   "execution_count": 11,
   "metadata": {},
   "outputs": [
    {
     "name": "stderr",
     "output_type": "stream",
     "text": [
      "/scratch/4280996.1.l40s/ipykernel_3692555/3362493372.py:19: FutureWarning: `tokenizer` is deprecated and will be removed in version 5.0.0 for `Trainer.__init__`. Use `processing_class` instead.\n",
      "  trainer = Trainer(\n",
      "Detected kernel version 4.18.0, which is below the recommended minimum of 5.5.0; this can cause the process to hang. It is recommended to upgrade the kernel to the minimum version or higher.\n"
     ]
    }
   ],
   "source": [
    "data_collator = DataCollatorForLanguageModeling(\n",
    "    tokenizer=tokenizer,\n",
    "    mlm=False,\n",
    ")\n",
    "\n",
    "#model training args\n",
    "training_args = TrainingArguments(\n",
    "    output_dir=\"dm-model\",\n",
    "    per_device_train_batch_size=4,\n",
    "    num_train_epochs=3,\n",
    "    logging_dir=\"./logs\",\n",
    "    save_strategy=\"epoch\",\n",
    "    fp16=torch.cuda.is_available(),  \n",
    "    report_to=\"none\"\n",
    ")\n",
    "\n",
    "#trainer\n",
    "trainer = Trainer(\n",
    "    model=model,\n",
    "    args=training_args,\n",
    "    train_dataset=dataset,\n",
    "    tokenizer=tokenizer,\n",
    "    data_collator=data_collator\n",
    ")"
   ]
  },
  {
   "cell_type": "code",
   "execution_count": 12,
   "metadata": {},
   "outputs": [
    {
     "data": {
      "text/html": [
       "\n",
       "    <div>\n",
       "      \n",
       "      <progress value='42' max='42' style='width:300px; height:20px; vertical-align: middle;'></progress>\n",
       "      [42/42 01:17, Epoch 3/3]\n",
       "    </div>\n",
       "    <table border=\"1\" class=\"dataframe\">\n",
       "  <thead>\n",
       " <tr style=\"text-align: left;\">\n",
       "      <th>Step</th>\n",
       "      <th>Training Loss</th>\n",
       "    </tr>\n",
       "  </thead>\n",
       "  <tbody>\n",
       "  </tbody>\n",
       "</table><p>"
      ],
      "text/plain": [
       "<IPython.core.display.HTML object>"
      ]
     },
     "metadata": {},
     "output_type": "display_data"
    },
    {
     "data": {
      "text/plain": [
       "TrainOutput(global_step=42, training_loss=0.8535274323962984, metrics={'train_runtime': 85.4112, 'train_samples_per_second': 1.967, 'train_steps_per_second': 0.492, 'total_flos': 2135630813331456.0, 'train_loss': 0.8535274323962984, 'epoch': 3.0})"
      ]
     },
     "execution_count": 12,
     "metadata": {},
     "output_type": "execute_result"
    }
   ],
   "source": [
    "trainer.train()"
   ]
  },
  {
   "cell_type": "code",
   "execution_count": 13,
   "metadata": {},
   "outputs": [],
   "source": [
    "scenarios = pd.read_csv(\"data/scenario-dataset.csv\")[\"scenarios\"].to_list()"
   ]
  },
  {
   "cell_type": "code",
   "execution_count": 34,
   "metadata": {},
   "outputs": [
    {
     "name": "stdout",
     "output_type": "stream",
     "text": [
      "System:(health:0.34\n",
      "strength:0.94\n",
      "dexterity:0.32\n",
      "perception:0.52\n",
      "intelligence:0.70\n",
      "charisma:0.36\n",
      "stamina:0.97)\n",
      "<DM>You’re walking through a fog-covered forest. The trees loom overhead, their branches twisted and gnarled. </DM>\n",
      "<Roll:Failure>\n",
      "User:I try to stay alert, keeping an eye out for any hidden creatures or dangers lurking in the fog.\n",
      "____\n",
      "Response:\n",
      "As you walk cautiously through the fog-covered forest, your attention wavers as a faint noise echoes from the shadows. The trees seem to move around you, and the unsettling atmosphere of the forest heightens your senses. You hear a low, rhythmic clicking from the bushes on either side of your path, followed by the sharp snap of a branch. Suddenly, a pair of glowing eyes stare back at you\n"
     ]
    }
   ],
   "source": [
    "attributes = np.random.rand(7)\n",
    "text = random.choice(scenarios)\n",
    "dm_match = re.search(r\"<DM>(.*?)</DM>\", text)\n",
    "player_match = re.search(r\"<Player>(.*?)</Player>\", text)\n",
    "dm_text = dm_match.group(1) if dm_match else \"\"\n",
    "player_text = player_match.group(1) if player_match else \"\"\n",
    "\n",
    "roll = \"Success\" if random.random() < 0.5 else \"Failure\"\n",
    "output = f\"(health:{attributes[0]:.2f}\\nstrength:{attributes[1]:.2f}\\ndexterity:{attributes[2]:.2f}\\nperception:{attributes[3]:.2f}\\nintelligence:{attributes[4]:.2f}\\ncharisma:{attributes[5]:.2f}\\nstamina:{attributes[6]:.2f})\\n<DM>{dm_text}</DM>\\n<Roll:{roll}>\"\n",
    "\n",
    "#feed output through tokenizer\n",
    "#define the chat messages\n",
    "messages = [\n",
    "    {\n",
    "        \"role\": \"system\",\n",
    "        \"content\": text,\n",
    "    },\n",
    "    {\"role\": \"user\", \"content\": player_text},\n",
    "]\n",
    "\n",
    "#use the tokenizer's chat template to construct the prompt\n",
    "prompt = tokenizer.apply_chat_template(messages, tokenize=False, add_generation_prompt=True)\n",
    "\n",
    "# tokenize the prompt\n",
    "input_ids = tokenizer(prompt, return_tensors=\"pt\").input_ids.to(model.device)\n",
    "\n",
    "# generate output\n",
    "with torch.no_grad():\n",
    "    generated_ids = model.generate(\n",
    "        input_ids,\n",
    "        max_new_tokens=97,\n",
    "        do_sample=True,\n",
    "        top_p=0.95,\n",
    "        temperature=1.0,\n",
    "    )\n",
    "# decode and print the output\n",
    "generated_text = tokenizer.decode(generated_ids[0], skip_special_tokens=False)\n",
    "response = generated_text.split(\"<|assistant|>\")[-1]\n",
    "print(f\"System:{output}\")\n",
    "print(f\"User:{player_text}\")\n",
    "print(\"____\")\n",
    "print(f\"Response:{response}\")"
   ]
  }
 ],
 "metadata": {
  "kernelspec": {
   "display_name": ".venv",
   "language": "python",
   "name": "python3"
  },
  "language_info": {
   "codemirror_mode": {
    "name": "ipython",
    "version": 3
   },
   "file_extension": ".py",
   "mimetype": "text/x-python",
   "name": "python",
   "nbconvert_exporter": "python",
   "pygments_lexer": "ipython3",
   "version": "3.11.11"
  },
  "orig_nbformat": 4
 },
 "nbformat": 4,
 "nbformat_minor": 2
}
