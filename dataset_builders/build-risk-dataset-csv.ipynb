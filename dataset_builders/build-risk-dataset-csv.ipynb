{
 "cells": [
  {
   "attachments": {},
   "cell_type": "markdown",
   "metadata": {},
   "source": [
    "# Build Dataset\n",
    "This is a notebook that asks questions and based on those reposnes builds the dataset. The questions are loaded from a table."
   ]
  },
  {
   "cell_type": "code",
   "execution_count": 1,
   "metadata": {},
   "outputs": [
    {
     "name": "stdout",
     "output_type": "stream",
     "text": [
      "health:0.37\n",
      "strength:0.62\n",
      "dexterity:0.86\n",
      "perception:0.29\n",
      "intelligence:0.83\n",
      "charisma:0.96\n",
      "stamina:0.91\n",
      "<DM>You’re trapped on a sinking ship, and the water level is rising rapidly. </DM>\n",
      "<Player>I start organizing the lifeboats by color, thinking that a neatly arranged fleet will help with the evacuation.</Player>\n",
      "\n",
      "\n",
      "\n",
      "health:0.08\n",
      "strength:0.40\n",
      "dexterity:0.81\n",
      "perception:0.41\n",
      "intelligence:0.93\n",
      "charisma:0.95\n",
      "stamina:0.80\n",
      "<DM>You’re walking through a tunnel made entirely of licorice. A licorice dragon approaches and offers you a ride on its back. </DM>\n",
      "<Player>I hop on the licorice dragon and ask it if it knows the best way to get to the candy kingdom.</Player>\n",
      "\n",
      "\n",
      "\n",
      "health:0.51\n",
      "strength:0.96\n",
      "dexterity:0.02\n",
      "perception:0.71\n",
      "intelligence:0.99\n",
      "charisma:0.19\n",
      "stamina:0.14\n",
      "<DM>You’re walking through a dense forest, the path ahead overgrown and barely visible. Suddenly, you hear the snap of a twig behind you. </DM>\n",
      "<Player>I stop and turn around, scanning the area for any sign of movement or danger.</Player>\n"
     ]
    }
   ],
   "source": [
    "import os\n",
    "import pandas as pd\n",
    "import datetime\n",
    "import numpy as np\n",
    "import random\n",
    "\n",
    "def is_float(string):\n",
    "    try:\n",
    "        float(string)\n",
    "        return True\n",
    "    except ValueError:\n",
    "        return False\n",
    "\n",
    "\n",
    "response_dict = {\"description\":[], \"chance-success\":[]}\n",
    "user_input = None\n",
    "scenarios = pd.read_csv(\"../data/scenario-dataset.csv\")[\"scenarios\"].to_list()\n",
    "\n",
    "while user_input!=\"quit\":\n",
    "\n",
    "    attributes = np.random.rand(7)\n",
    "    output = f'health:{attributes[0]:.2f}\\nstrength:{attributes[1]:.2f}\\ndexterity:{attributes[2]:.2f}\\nperception:{attributes[3]:.2f}\\nintelligence:{attributes[4]:.2f}\\ncharisma:{attributes[5]:.2f}\\nstamina:{attributes[6]:.2f}\\n{random.choice(scenarios)}'\n",
    "    print(output)\n",
    "\n",
    "    user_input = input()\n",
    "    \n",
    "    if is_float(user_input):\n",
    "        response_dict[\"description\"].append(output)\n",
    "        response_dict[\"chance-success\"].append(float(user_input))\n",
    "    else:\n",
    "        print(\"Invalid float\")\n",
    "    print(\"\\n\\n\")\n",
    "    \n",
    "    \n",
    "print(response_dict)\n",
    "\n",
    "df = pd.DataFrame.from_dict(response_dict)\n",
    "now = datetime.datetime.now()\n",
    "df.to_csv(\"../data/risk_dataset_\"+now.strftime(\"%m-%d-%H-%M\")+\".csv\", index=False)"
   ]
  }
 ],
 "metadata": {
  "kernelspec": {
   "display_name": ".venv",
   "language": "python",
   "name": "python3"
  },
  "language_info": {
   "codemirror_mode": {
    "name": "ipython",
    "version": 3
   },
   "file_extension": ".py",
   "mimetype": "text/x-python",
   "name": "python",
   "nbconvert_exporter": "python",
   "pygments_lexer": "ipython3",
   "version": "3.11.11"
  },
  "orig_nbformat": 4
 },
 "nbformat": 4,
 "nbformat_minor": 2
}
