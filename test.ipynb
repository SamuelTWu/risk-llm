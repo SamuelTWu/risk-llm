{
 "cells": [
  {
   "cell_type": "code",
   "execution_count": 10,
   "metadata": {},
   "outputs": [],
   "source": [
    "from transformers import BertForSequenceClassification, AutoTokenizer\n",
    "tokenizer =  AutoTokenizer.from_pretrained(\"samwu1/risk-model\")\n",
    "model = BertForSequenceClassification.from_pretrained(\"samwu1/risk-model\")\n",
    "\n",
    "#just a quick dummy in case you want to do something to the outputs\n",
    "def output_to_values(output):\n",
    "    return output.logits[0]"
   ]
  },
  {
   "cell_type": "code",
   "execution_count": 21,
   "metadata": {},
   "outputs": [
    {
     "name": "stdout",
     "output_type": "stream",
     "text": [
      "tensor([0.2187], grad_fn=<SelectBackward0>)\n"
     ]
    }
   ],
   "source": [
    "attributes = \"health: 0.1\\nstrength: 0.0\\ndexterity: 0.1\\nperception: 0.0\\nintelligence: 0.1\\ncharisma: 0.0\\nstamina: 0.01\"\n",
    "dm_text= \"\\n<DM>There's a giant monster in front of you.</DM>\"\n",
    "player_text = \"\\n<Player>I try to talk to it and convince it that I'm friendly.</Player>\"\n",
    "input = attributes+dm_text+player_text\n",
    "encoding = tokenizer(input, return_tensors=\"pt\")\n",
    "encoding = {k: v.to(model.device) for k,v in encoding.items()}\n",
    "prediction = model(**encoding)\n",
    "print(output_to_values(prediction))"
   ]
  }
 ],
 "metadata": {
  "kernelspec": {
   "display_name": ".venv",
   "language": "python",
   "name": "python3"
  },
  "language_info": {
   "codemirror_mode": {
    "name": "ipython",
    "version": 3
   },
   "file_extension": ".py",
   "mimetype": "text/x-python",
   "name": "python",
   "nbconvert_exporter": "python",
   "pygments_lexer": "ipython3",
   "version": "3.11.11"
  },
  "orig_nbformat": 4
 },
 "nbformat": 4,
 "nbformat_minor": 2
}
